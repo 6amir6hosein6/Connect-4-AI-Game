{
 "cells": [
  {
   "cell_type": "markdown",
   "metadata": {},
   "source": [
    "# Doc of the 4 Connect project (by A.N , A.H , M.S)\n"
   ]
  },
  {
   "cell_type": "markdown",
   "metadata": {},
   "source": [
    "## playGame(bo):\n"
   ]
  },
  {
   "cell_type": "markdown",
   "metadata": {},
   "source": [
    "#### Inputs:\n",
    "\n",
    "    bo : The board of game\n",
    "    \n",
    "#### This function is the mainest function in the project witch after calling this function the graphic model og game will start and after choosing the type of game by user the game will start \n",
    "the option of game contains:\n",
    "\n",
    "1 - AI vs Human\n",
    "\n",
    "    I-Firstone : human\n",
    "    \n",
    "    II-Firstone : AI\n",
    "    \n",
    "2 - AI vs human\n",
    "\n",
    "________________________________________________________"
   ]
  },
  {
   "cell_type": "markdown",
   "metadata": {},
   "source": [
    "## human_choose(bo, col):\n"
   ]
  },
  {
   "cell_type": "markdown",
   "metadata": {},
   "source": [
    "#### Inputs:\n",
    "\n",
    "    bo : The board of game\n",
    "    \n",
    "    col : choosen culomn by user\n",
    "    \n",
    "#### This function get the choosen column by user and put in the board and check if the user is winner or not and then give the turn to the other player\n",
    "\n",
    "__________________________________________________________"
   ]
  },
  {
   "cell_type": "markdown",
   "metadata": {},
   "source": [
    "## check_piece():\n",
    "    \n",
    "#### Inputs:\n",
    "    \n",
    "    bo : The board of game\n",
    "    \n",
    "    column : The current column that will check\n",
    "    \n",
    "    row : The current row that will check\n",
    "    \n",
    "    length : the size of pice we want (defult=4)\n",
    "\n",
    "#### checks given the piece of board and return the piece that there is some winner inside it ;-)\n",
    "\n",
    "_________________________________________________________________________________________________\n",
    "\n",
    "## find_winner():\n",
    "\n",
    "#### Inputs:\n",
    "    \n",
    "    bo : The board of game\n",
    "    \n",
    "    \n",
    "    length : the size of pice we want (defult=4)\n",
    "   \n",
    "#### This funvtion will ittrate all col and row by giving to check_piece() and check if exist a winner of not\n",
    "\n",
    "#### Output:\n",
    "\n",
    "    the winner existing , winner marker(+1 or -1)\n",
    "    \n",
    "_______________________________________________________________________________\n"
   ]
  },
  {
   "cell_type": "markdown",
   "metadata": {},
   "source": [
    "## printBoard(bo):\n",
    "\n",
    "#### Inputs:\n",
    "    bo : The board of game\n",
    " \n",
    "#### This function will print the board in terminal as beutiful one ;-)\n",
    "\n",
    "______________________________________________________________________\n"
   ]
  },
  {
   "cell_type": "markdown",
   "metadata": {},
   "source": [
    "## ai_choose(bo, self, rival):\n",
    "\n",
    "#### Inputs:\n",
    "    bo : The board of game\n",
    "    \n",
    "    self : Witch AI is this (usage in : AI vs AI)\n",
    "    \n",
    "    rival : Who is the rival of AI in this game (AI or human)\n",
    "    \n",
    "#### This function will di the move of ai by using MiniMAx() function and changes the board and like human_choose() check if the user is winner or not and then give the turn to the other player\n",
    "\n",
    "_______________________________________________________________________________"
   ]
  },
  {
   "cell_type": "markdown",
   "metadata": {},
   "source": [
    "## available(bo):\n",
    "\n",
    "#### Inputs:\n",
    "    bo : The board of game\n",
    "    \n",
    "#### This function will check if table is full or not\n",
    "\n",
    "___________________________________________________"
   ]
  },
  {
   "cell_type": "markdown",
   "metadata": {},
   "source": [
    "## all_possible_move(bo):\n",
    "\n",
    "#### Inputs:\n",
    "    bo : The board of game\n",
    "\n",
    "#### This function get the board of game and return the all column that the AI can put it's marker in there \n",
    "\n",
    "#### Output:\n",
    "\n",
    "    possible : array of all possible moves\n",
    "    \n",
    "_______________________________________"
   ]
  },
  {
   "cell_type": "markdown",
   "metadata": {},
   "source": [
    "## MIN(bo, max_depth, current_depth, alpha , beta)\n",
    "\n",
    "## MAX(bo, max_depth, current_depth, alpha , beta)\n",
    "\n",
    "#### Inputs:\n",
    "    bo : The board of game\n",
    "    \n",
    "    max_depth : The maximum depth we want to check\n",
    "    \n",
    "    current_depth : The current depth we are in now\n",
    "    \n",
    "    alpha , beta : in order to Implement the alpha beta method\n",
    "    \n",
    "#### This function is playing with eachother at the end they will found the best way\n",
    "\n",
    "__________________________________________\n"
   ]
  },
  {
   "cell_type": "markdown",
   "metadata": {},
   "source": [
    "## number_of_n_beside(bo, n, who, m):\n",
    "\n",
    "#### Inputs:\n",
    "\n",
    "    bo : The board of game\n",
    "    \n",
    "    n : The looking for goal\n",
    "    \n",
    "    who : For witch player we will look\n",
    "    \n",
    "    m :The Coefficient\n",
    "    \n",
    "#### this function is a little compelicated!!\n",
    "#### in this function we will ittrate all 4 place of board in order to find the threats and after calculating and summing all of them will use it in MIN() and MAX() function in order to getting the best road"
   ]
  },
  {
   "cell_type": "markdown",
   "metadata": {},
   "source": [
    "# Thanks for reading :-D"
   ]
  },
  {
   "cell_type": "code",
   "execution_count": null,
   "metadata": {},
   "outputs": [],
   "source": []
  }
 ],
 "metadata": {
  "kernelspec": {
   "display_name": "Python 2",
   "language": "python",
   "name": "python2"
  },
  "language_info": {
   "codemirror_mode": {
    "name": "ipython",
    "version": 2
   },
   "file_extension": ".py",
   "mimetype": "text/x-python",
   "name": "python",
   "nbconvert_exporter": "python",
   "pygments_lexer": "ipython2",
   "version": "2.7.15+"
  }
 },
 "nbformat": 4,
 "nbformat_minor": 2
}
